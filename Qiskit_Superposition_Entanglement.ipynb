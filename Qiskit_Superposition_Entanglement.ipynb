{
 "cells": [
  {
   "cell_type": "markdown",
   "metadata": {
    "id": "X2W5OpxSv-y2"
   },
   "source": [
    "# Superposition and Entanglement in Qiskit\n",
    "This notebook demonstrates:\n",
    "1. **Superposition** using a single qubit.\n",
    "2. **Entanglement** using two qubits.\n",
    "We will use Qiskit to create circuits, visualize the states, and measure outcomes."
   ],
   "id": "X2W5OpxSv-y2"
  },
  {
   "cell_type": "code",
   "metadata": {
    "id": "4vIIe5A0v-y4",
    "ExecuteTime": {
     "end_time": "2025-10-15T15:34:48.267438Z",
     "start_time": "2025-10-15T15:34:48.264676Z"
    }
   },
   "source": [
    "# ===========================\n",
    "# Import Libraries\n",
    "# ===========================\n",
    "from qiskit import QuantumCircuit\n",
    "from qiskit_aer import AerSimulator\n",
    "from qiskit.visualization import plot_histogram, plot_bloch_multivector\n",
    "from qiskit.quantum_info import Statevector\n",
    "import matplotlib.pyplot as plt\n"
   ],
   "id": "4vIIe5A0v-y4",
   "outputs": [],
   "execution_count": 4
  },
  {
   "cell_type": "markdown",
   "metadata": {
    "id": "B_QEU5O6v-y4"
   },
   "source": [
    "## 1. Superposition Example"
   ],
   "id": "B_QEU5O6v-y4"
  },
  {
   "cell_type": "code",
   "metadata": {
    "id": "mPhcfNBxv-y5",
    "colab": {
     "base_uri": "https://localhost:8080/"
    },
    "outputId": "cbfb2f87-4ec6-40a7-cfb3-cb6fed771258",
    "ExecuteTime": {
     "end_time": "2025-10-15T15:34:48.335487Z",
     "start_time": "2025-10-15T15:34:48.281644Z"
    }
   },
   "source": [
    "# ===========================\n",
    "# Task 1: Superposition Task\n",
    "# ===========================\n",
    "\n",
    "from qiskit import QuantumCircuit\n",
    "from qiskit_aer import AerSimulator\n",
    "from qiskit.visualization import plot_histogram, plot_bloch_multivector\n",
    "from qiskit.quantum_info import Statevector\n",
    "import matplotlib.pyplot as plt\n",
    "\n",
    "# Create a single qubit circuit\n",
    "qc = QuantumCircuit(1)\n",
    "\n",
    "# Apply Hadamard gate to create superposition\n",
    "qc.h(0)\n",
    "\n",
    "# Draw the circuit\n",
    "print(qc.draw('text'))\n",
    "\n",
    "# Get the statevector and plot on Bloch sphere\n",
    "state = Statevector.from_instruction(qc)\n",
    "plot_bloch_multivector(state)\n",
    "plt.show()\n",
    "\n",
    "# Measure the qubit\n",
    "qc.measure_all()\n",
    "\n",
    "# Simulate the circuit\n",
    "simulator = AerSimulator()\n",
    "job = simulator.run(qc, shots=1024)\n",
    "result = job.result()\n",
    "counts = result.get_counts()\n",
    "\n",
    "# Display results\n",
    "print(\"Measurement Counts:\", counts)\n",
    "plot_histogram(counts)\n",
    "plt.show()\n"
   ],
   "id": "mPhcfNBxv-y5",
   "outputs": [
    {
     "name": "stdout",
     "output_type": "stream",
     "text": [
      "   ┌───┐\n",
      "q: ┤ H ├\n",
      "   └───┘\n",
      "Measurement Counts: {'0': 513, '1': 511}\n"
     ]
    }
   ],
   "execution_count": 5
  },
  {
   "cell_type": "markdown",
   "metadata": {
    "id": "PWL3wDZWv-y6"
   },
   "source": [
    "## 2. Entanglement Example"
   ],
   "id": "PWL3wDZWv-y6"
  },
  {
   "cell_type": "code",
   "metadata": {
    "id": "dj2F4Yswv-y6",
    "colab": {
     "base_uri": "https://localhost:8080/"
    },
    "outputId": "bfc85ea2-46bf-4cd1-827b-8bdf04d7cdb1",
    "ExecuteTime": {
     "end_time": "2025-10-15T15:34:48.455022Z",
     "start_time": "2025-10-15T15:34:48.351193Z"
    }
   },
   "source": [
    "# ===========================\n",
    "# Task 2: Entanglement\n",
    "# ===========================\n",
    "\n",
    "from qiskit import QuantumCircuit\n",
    "from qiskit_aer import AerSimulator\n",
    "from qiskit.visualization import plot_histogram, plot_bloch_multivector\n",
    "from qiskit.quantum_info import Statevector\n",
    "import matplotlib.pyplot as plt\n",
    "\n",
    "# Create 2-qubit circuit\n",
    "qc = QuantumCircuit(2)\n",
    "\n",
    "# Apply Hadamard gate to qubit 0\n",
    "qc.h(0)\n",
    "\n",
    "# Apply CNOT (control = 0, target = 1) to create entanglement\n",
    "qc.cx(0, 1)\n",
    "\n",
    "# Draw the circuit\n",
    "print(qc.draw('text'))\n",
    "\n",
    "# Get and print the statevector\n",
    "state = Statevector.from_instruction(qc)\n",
    "print(\"Entangled Statevector:\\n\", state)\n",
    "\n",
    "# Visualize on Bloch sphere\n",
    "plot_bloch_multivector(state)\n",
    "plt.show()\n",
    "\n",
    "# Measure both qubits\n",
    "qc.measure_all()\n",
    "\n",
    "# Simulate the circuit\n",
    "simulator = AerSimulator()\n",
    "job = simulator.run(qc, shots=1024)\n",
    "result = job.result()\n",
    "counts = result.get_counts()\n",
    "\n",
    "# Display results\n",
    "print(\"Entanglement Measurement Counts:\", counts)\n",
    "plot_histogram(counts)\n",
    "plt.show()\n"
   ],
   "id": "dj2F4Yswv-y6",
   "outputs": [
    {
     "name": "stdout",
     "output_type": "stream",
     "text": [
      "     ┌───┐     \n",
      "q_0: ┤ H ├──■──\n",
      "     └───┘┌─┴─┐\n",
      "q_1: ─────┤ X ├\n",
      "          └───┘\n",
      "Entangled Statevector:\n",
      " Statevector([0.70710678+0.j, 0.        +0.j, 0.        +0.j,\n",
      "             0.70710678+0.j],\n",
      "            dims=(2, 2))\n",
      "Entanglement Measurement Counts: {'00': 502, '11': 522}\n"
     ]
    }
   ],
   "execution_count": 6
  }
 ],
 "metadata": {
  "kernelspec": {
   "display_name": "Python 3",
   "language": "python",
   "name": "python3"
  },
  "language_info": {
   "name": "python",
   "version": "3.10"
  },
  "colab": {
   "provenance": []
  }
 },
 "nbformat": 4,
 "nbformat_minor": 5
}
